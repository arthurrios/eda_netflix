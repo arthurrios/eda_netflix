{
 "cells": [
  {
   "cell_type": "markdown",
   "metadata": {},
   "source": [
    "# Netflix Data Analysis"
   ]
  },
  {
   "cell_type": "code",
   "execution_count": 2,
   "metadata": {},
   "outputs": [],
   "source": [
    "import pandas as pd\n",
    "import numpy as np\n",
    "import matplotlib.pyplot as plt\n",
    "import seaborn as sns\n",
    "\n",
    "# Config to show inline grids\n",
    "%matplotlib inline\n",
    "sns.set_theme(style=\"whitegrid\")"
   ]
  },
  {
   "cell_type": "code",
   "execution_count": 3,
   "metadata": {},
   "outputs": [
    {
     "data": {
      "text/html": [
       "<div>\n",
       "<style scoped>\n",
       "    .dataframe tbody tr th:only-of-type {\n",
       "        vertical-align: middle;\n",
       "    }\n",
       "\n",
       "    .dataframe tbody tr th {\n",
       "        vertical-align: top;\n",
       "    }\n",
       "\n",
       "    .dataframe thead th {\n",
       "        text-align: right;\n",
       "    }\n",
       "</style>\n",
       "<table border=\"1\" class=\"dataframe\">\n",
       "  <thead>\n",
       "    <tr style=\"text-align: right;\">\n",
       "      <th></th>\n",
       "      <th>As of</th>\n",
       "      <th>Rank</th>\n",
       "      <th>Year to Date Rank</th>\n",
       "      <th>Last Week Rank</th>\n",
       "      <th>Title</th>\n",
       "      <th>Type</th>\n",
       "      <th>Netflix Exclusive</th>\n",
       "      <th>Netflix Release Date</th>\n",
       "      <th>Days In Top 10</th>\n",
       "      <th>Viewership Score</th>\n",
       "    </tr>\n",
       "  </thead>\n",
       "  <tbody>\n",
       "    <tr>\n",
       "      <th>0</th>\n",
       "      <td>2020-04-01</td>\n",
       "      <td>1</td>\n",
       "      <td>1</td>\n",
       "      <td>1</td>\n",
       "      <td>Tiger King: Murder, Mayhem …</td>\n",
       "      <td>TV Show</td>\n",
       "      <td>Yes</td>\n",
       "      <td>Mar 20, 2020</td>\n",
       "      <td>9</td>\n",
       "      <td>90</td>\n",
       "    </tr>\n",
       "    <tr>\n",
       "      <th>1</th>\n",
       "      <td>2020-04-01</td>\n",
       "      <td>2</td>\n",
       "      <td>2</td>\n",
       "      <td>-</td>\n",
       "      <td>Ozark</td>\n",
       "      <td>TV Show</td>\n",
       "      <td>Yes</td>\n",
       "      <td>Jul 21, 2017</td>\n",
       "      <td>5</td>\n",
       "      <td>45</td>\n",
       "    </tr>\n",
       "    <tr>\n",
       "      <th>2</th>\n",
       "      <td>2020-04-01</td>\n",
       "      <td>3</td>\n",
       "      <td>3</td>\n",
       "      <td>2</td>\n",
       "      <td>All American</td>\n",
       "      <td>TV Show</td>\n",
       "      <td>NaN</td>\n",
       "      <td>Mar 28, 2019</td>\n",
       "      <td>9</td>\n",
       "      <td>76</td>\n",
       "    </tr>\n",
       "    <tr>\n",
       "      <th>3</th>\n",
       "      <td>2020-04-01</td>\n",
       "      <td>4</td>\n",
       "      <td>4</td>\n",
       "      <td>-</td>\n",
       "      <td>Blood Father</td>\n",
       "      <td>Movie</td>\n",
       "      <td>NaN</td>\n",
       "      <td>Mar 26, 2020</td>\n",
       "      <td>5</td>\n",
       "      <td>30</td>\n",
       "    </tr>\n",
       "    <tr>\n",
       "      <th>4</th>\n",
       "      <td>2020-04-01</td>\n",
       "      <td>5</td>\n",
       "      <td>5</td>\n",
       "      <td>4</td>\n",
       "      <td>The Platform</td>\n",
       "      <td>Movie</td>\n",
       "      <td>Yes</td>\n",
       "      <td>Mar 20, 2020</td>\n",
       "      <td>9</td>\n",
       "      <td>55</td>\n",
       "    </tr>\n",
       "  </tbody>\n",
       "</table>\n",
       "</div>"
      ],
      "text/plain": [
       "        As of  Rank Year to Date Rank Last Week Rank  \\\n",
       "0  2020-04-01     1                 1              1   \n",
       "1  2020-04-01     2                 2              -   \n",
       "2  2020-04-01     3                 3              2   \n",
       "3  2020-04-01     4                 4              -   \n",
       "4  2020-04-01     5                 5              4   \n",
       "\n",
       "                          Title     Type Netflix Exclusive  \\\n",
       "0  Tiger King: Murder, Mayhem …  TV Show               Yes   \n",
       "1                         Ozark  TV Show               Yes   \n",
       "2                  All American  TV Show               NaN   \n",
       "3                  Blood Father    Movie               NaN   \n",
       "4                  The Platform    Movie               Yes   \n",
       "\n",
       "  Netflix Release Date  Days In Top 10  Viewership Score  \n",
       "0         Mar 20, 2020               9                90  \n",
       "1         Jul 21, 2017               5                45  \n",
       "2         Mar 28, 2019               9                76  \n",
       "3         Mar 26, 2020               5                30  \n",
       "4         Mar 20, 2020               9                55  "
      ]
     },
     "execution_count": 3,
     "metadata": {},
     "output_type": "execute_result"
    }
   ],
   "source": [
    "# Load CSV\n",
    "df = pd.read_csv('./datasets/Netflix Daily Top 10.csv')\n",
    "\n",
    "# Show first 5 rows\n",
    "df.head()"
   ]
  },
  {
   "cell_type": "markdown",
   "metadata": {},
   "source": [
    "## Task 1 - DataTypes"
   ]
  },
  {
   "cell_type": "code",
   "execution_count": 4,
   "metadata": {},
   "outputs": [
    {
     "data": {
      "text/plain": [
       "As of                   object\n",
       "Rank                     int64\n",
       "Year to Date Rank       object\n",
       "Last Week Rank          object\n",
       "Title                   object\n",
       "Type                    object\n",
       "Netflix Exclusive       object\n",
       "Netflix Release Date    object\n",
       "Days In Top 10           int64\n",
       "Viewership Score         int64\n",
       "dtype: object"
      ]
     },
     "execution_count": 4,
     "metadata": {},
     "output_type": "execute_result"
    }
   ],
   "source": [
    "# DataTypes by column\n",
    "df.dtypes"
   ]
  },
  {
   "cell_type": "markdown",
   "metadata": {},
   "source": [
    "## Task 2 - Period of Data Analysis"
   ]
  },
  {
   "cell_type": "code",
   "execution_count": 5,
   "metadata": {},
   "outputs": [],
   "source": [
    "# Convert Date to datetime\n",
    "df['As of'] = pd.to_datetime(df['As of'])"
   ]
  },
  {
   "cell_type": "code",
   "execution_count": 6,
   "metadata": {},
   "outputs": [
    {
     "name": "stdout",
     "output_type": "stream",
     "text": [
      "Initial Date: 2020-04-01 00:00:00\n",
      "Final Date: 2022-03-11 00:00:00\n"
     ]
    }
   ],
   "source": [
    "# Identify initial date and final date\n",
    "\n",
    "initial_date = df['As of'].min()\n",
    "final_date = df['As of'].max()\n",
    "\n",
    "print(f'Initial Date: {initial_date}')\n",
    "print(f'Final Date: {final_date}')"
   ]
  },
  {
   "cell_type": "markdown",
   "metadata": {},
   "source": [
    "## Task 3 - Database Size"
   ]
  },
  {
   "cell_type": "code",
   "execution_count": 7,
   "metadata": {},
   "outputs": [
    {
     "name": "stdout",
     "output_type": "stream",
     "text": [
      "Number of lines: 7100\n",
      "Number of columns: 10\n"
     ]
    }
   ],
   "source": [
    "# Number of lines and columns\n",
    "num_lines, num_columns = df.shape\n",
    "print(f'Number of lines: {num_lines}')\n",
    "print(f'Number of columns: {num_columns}')"
   ]
  },
  {
   "cell_type": "markdown",
   "metadata": {},
   "source": [
    "## Task 4 - Verify Nullish Data"
   ]
  },
  {
   "cell_type": "code",
   "execution_count": 9,
   "metadata": {},
   "outputs": [
    {
     "data": {
      "text/plain": [
       "As of                      0\n",
       "Rank                       0\n",
       "Year to Date Rank          0\n",
       "Last Week Rank             0\n",
       "Title                      0\n",
       "Type                       0\n",
       "Netflix Exclusive       2501\n",
       "Netflix Release Date       0\n",
       "Days In Top 10             0\n",
       "Viewership Score           0\n",
       "dtype: int64"
      ]
     },
     "execution_count": 9,
     "metadata": {},
     "output_type": "execute_result"
    }
   ],
   "source": [
    "# Check for missing values\n",
    "missing_values = df.isnull().sum()\n",
    "\n",
    "missing_values"
   ]
  },
  {
   "cell_type": "markdown",
   "metadata": {},
   "source": [
    "## Task 5 - Verify Outliers"
   ]
  },
  {
   "cell_type": "code",
   "execution_count": 10,
   "metadata": {},
   "outputs": [
    {
     "data": {
      "text/html": [
       "<div>\n",
       "<style scoped>\n",
       "    .dataframe tbody tr th:only-of-type {\n",
       "        vertical-align: middle;\n",
       "    }\n",
       "\n",
       "    .dataframe tbody tr th {\n",
       "        vertical-align: top;\n",
       "    }\n",
       "\n",
       "    .dataframe thead th {\n",
       "        text-align: right;\n",
       "    }\n",
       "</style>\n",
       "<table border=\"1\" class=\"dataframe\">\n",
       "  <thead>\n",
       "    <tr style=\"text-align: right;\">\n",
       "      <th></th>\n",
       "      <th>As of</th>\n",
       "      <th>Rank</th>\n",
       "      <th>Days In Top 10</th>\n",
       "      <th>Viewership Score</th>\n",
       "    </tr>\n",
       "  </thead>\n",
       "  <tbody>\n",
       "    <tr>\n",
       "      <th>count</th>\n",
       "      <td>7100</td>\n",
       "      <td>7100.000000</td>\n",
       "      <td>7100.000000</td>\n",
       "      <td>7100.000000</td>\n",
       "    </tr>\n",
       "    <tr>\n",
       "      <th>mean</th>\n",
       "      <td>2021-03-21 12:00:00.000000256</td>\n",
       "      <td>5.500000</td>\n",
       "      <td>24.123662</td>\n",
       "      <td>122.790141</td>\n",
       "    </tr>\n",
       "    <tr>\n",
       "      <th>min</th>\n",
       "      <td>2020-04-01 00:00:00</td>\n",
       "      <td>1.000000</td>\n",
       "      <td>1.000000</td>\n",
       "      <td>1.000000</td>\n",
       "    </tr>\n",
       "    <tr>\n",
       "      <th>25%</th>\n",
       "      <td>2020-09-25 00:00:00</td>\n",
       "      <td>3.000000</td>\n",
       "      <td>3.000000</td>\n",
       "      <td>19.000000</td>\n",
       "    </tr>\n",
       "    <tr>\n",
       "      <th>50%</th>\n",
       "      <td>2021-03-21 12:00:00</td>\n",
       "      <td>5.500000</td>\n",
       "      <td>7.000000</td>\n",
       "      <td>50.000000</td>\n",
       "    </tr>\n",
       "    <tr>\n",
       "      <th>75%</th>\n",
       "      <td>2021-09-15 00:00:00</td>\n",
       "      <td>8.000000</td>\n",
       "      <td>18.000000</td>\n",
       "      <td>128.000000</td>\n",
       "    </tr>\n",
       "    <tr>\n",
       "      <th>max</th>\n",
       "      <td>2022-03-11 00:00:00</td>\n",
       "      <td>10.000000</td>\n",
       "      <td>428.000000</td>\n",
       "      <td>1474.000000</td>\n",
       "    </tr>\n",
       "    <tr>\n",
       "      <th>std</th>\n",
       "      <td>NaN</td>\n",
       "      <td>2.872484</td>\n",
       "      <td>58.473789</td>\n",
       "      <td>213.861642</td>\n",
       "    </tr>\n",
       "  </tbody>\n",
       "</table>\n",
       "</div>"
      ],
      "text/plain": [
       "                               As of         Rank  Days In Top 10  \\\n",
       "count                           7100  7100.000000     7100.000000   \n",
       "mean   2021-03-21 12:00:00.000000256     5.500000       24.123662   \n",
       "min              2020-04-01 00:00:00     1.000000        1.000000   \n",
       "25%              2020-09-25 00:00:00     3.000000        3.000000   \n",
       "50%              2021-03-21 12:00:00     5.500000        7.000000   \n",
       "75%              2021-09-15 00:00:00     8.000000       18.000000   \n",
       "max              2022-03-11 00:00:00    10.000000      428.000000   \n",
       "std                              NaN     2.872484       58.473789   \n",
       "\n",
       "       Viewership Score  \n",
       "count       7100.000000  \n",
       "mean         122.790141  \n",
       "min            1.000000  \n",
       "25%           19.000000  \n",
       "50%           50.000000  \n",
       "75%          128.000000  \n",
       "max         1474.000000  \n",
       "std          213.861642  "
      ]
     },
     "execution_count": 10,
     "metadata": {},
     "output_type": "execute_result"
    }
   ],
   "source": [
    "# Analyze statistics\n",
    "df.describe()"
   ]
  },
  {
   "cell_type": "code",
   "execution_count": 18,
   "metadata": {},
   "outputs": [
    {
     "data": {
      "text/plain": [
       "Rank                   Axes(0.125,0.11;0.227941x0.77)\n",
       "Days In Top 10      Axes(0.398529,0.11;0.227941x0.77)\n",
       "Viewership Score    Axes(0.672059,0.11;0.227941x0.77)\n",
       "dtype: object"
      ]
     },
     "execution_count": 18,
     "metadata": {},
     "output_type": "execute_result"
    },
    {
     "data": {
      "image/png": "[encoded data removed]",
      "text/plain": [
       "<Figure size 1200x600 with 3 Axes>"
      ]
     },
     "metadata": {},
     "output_type": "display_data"
    }
   ],
   "source": [
    "# Boxplot\n",
    "df.plot(kind='box', figsize=(12, 6), subplots=True)"
   ]
  },
  {
   "cell_type": "code",
   "execution_count": 19,
   "metadata": {},
   "outputs": [
    {
     "data": {
      "text/html": [
       "<div>\n",
       "<style scoped>\n",
       "    .dataframe tbody tr th:only-of-type {\n",
       "        vertical-align: middle;\n",
       "    }\n",
       "\n",
       "    .dataframe tbody tr th {\n",
       "        vertical-align: top;\n",
       "    }\n",
       "\n",
       "    .dataframe thead th {\n",
       "        text-align: right;\n",
       "    }\n",
       "</style>\n",
       "<table border=\"1\" class=\"dataframe\">\n",
       "  <thead>\n",
       "    <tr style=\"text-align: right;\">\n",
       "      <th></th>\n",
       "      <th>As of</th>\n",
       "      <th>Rank</th>\n",
       "      <th>Year to Date Rank</th>\n",
       "      <th>Last Week Rank</th>\n",
       "      <th>Title</th>\n",
       "      <th>Type</th>\n",
       "      <th>Netflix Exclusive</th>\n",
       "      <th>Netflix Release Date</th>\n",
       "      <th>Days In Top 10</th>\n",
       "      <th>Viewership Score</th>\n",
       "    </tr>\n",
       "  </thead>\n",
       "  <tbody>\n",
       "    <tr>\n",
       "      <th>2886</th>\n",
       "      <td>2021-01-14</td>\n",
       "      <td>7</td>\n",
       "      <td>6</td>\n",
       "      <td>8</td>\n",
       "      <td>Cocomelon</td>\n",
       "      <td>TV Show</td>\n",
       "      <td>NaN</td>\n",
       "      <td>Jun 1, 2020</td>\n",
       "      <td>100</td>\n",
       "      <td>287</td>\n",
       "    </tr>\n",
       "    <tr>\n",
       "      <th>2896</th>\n",
       "      <td>2021-01-15</td>\n",
       "      <td>7</td>\n",
       "      <td>7</td>\n",
       "      <td>10</td>\n",
       "      <td>Cocomelon</td>\n",
       "      <td>TV Show</td>\n",
       "      <td>NaN</td>\n",
       "      <td>Jun 1, 2020</td>\n",
       "      <td>101</td>\n",
       "      <td>291</td>\n",
       "    </tr>\n",
       "    <tr>\n",
       "      <th>2909</th>\n",
       "      <td>2021-01-16</td>\n",
       "      <td>10</td>\n",
       "      <td>7</td>\n",
       "      <td>9</td>\n",
       "      <td>Cocomelon</td>\n",
       "      <td>TV Show</td>\n",
       "      <td>NaN</td>\n",
       "      <td>Jun 1, 2020</td>\n",
       "      <td>102</td>\n",
       "      <td>292</td>\n",
       "    </tr>\n",
       "    <tr>\n",
       "      <th>2919</th>\n",
       "      <td>2021-01-17</td>\n",
       "      <td>10</td>\n",
       "      <td>10</td>\n",
       "      <td>9</td>\n",
       "      <td>Cocomelon</td>\n",
       "      <td>TV Show</td>\n",
       "      <td>NaN</td>\n",
       "      <td>Jun 1, 2020</td>\n",
       "      <td>103</td>\n",
       "      <td>293</td>\n",
       "    </tr>\n",
       "    <tr>\n",
       "      <th>3019</th>\n",
       "      <td>2021-01-27</td>\n",
       "      <td>10</td>\n",
       "      <td>-</td>\n",
       "      <td>-</td>\n",
       "      <td>Cocomelon</td>\n",
       "      <td>TV Show</td>\n",
       "      <td>NaN</td>\n",
       "      <td>Jun 1, 2020</td>\n",
       "      <td>104</td>\n",
       "      <td>294</td>\n",
       "    </tr>\n",
       "    <tr>\n",
       "      <th>...</th>\n",
       "      <td>...</td>\n",
       "      <td>...</td>\n",
       "      <td>...</td>\n",
       "      <td>...</td>\n",
       "      <td>...</td>\n",
       "      <td>...</td>\n",
       "      <td>...</td>\n",
       "      <td>...</td>\n",
       "      <td>...</td>\n",
       "      <td>...</td>\n",
       "    </tr>\n",
       "    <tr>\n",
       "      <th>6674</th>\n",
       "      <td>2022-01-28</td>\n",
       "      <td>5</td>\n",
       "      <td>6</td>\n",
       "      <td>-</td>\n",
       "      <td>Cocomelon</td>\n",
       "      <td>TV Show</td>\n",
       "      <td>NaN</td>\n",
       "      <td>Jun 1, 2020</td>\n",
       "      <td>424</td>\n",
       "      <td>1466</td>\n",
       "    </tr>\n",
       "    <tr>\n",
       "      <th>6687</th>\n",
       "      <td>2022-01-29</td>\n",
       "      <td>8</td>\n",
       "      <td>5</td>\n",
       "      <td>8</td>\n",
       "      <td>Cocomelon</td>\n",
       "      <td>TV Show</td>\n",
       "      <td>NaN</td>\n",
       "      <td>Jun 1, 2020</td>\n",
       "      <td>425</td>\n",
       "      <td>1469</td>\n",
       "    </tr>\n",
       "    <tr>\n",
       "      <th>6718</th>\n",
       "      <td>2022-02-01</td>\n",
       "      <td>9</td>\n",
       "      <td>-</td>\n",
       "      <td>7</td>\n",
       "      <td>Cocomelon</td>\n",
       "      <td>TV Show</td>\n",
       "      <td>NaN</td>\n",
       "      <td>Jun 1, 2020</td>\n",
       "      <td>426</td>\n",
       "      <td>1471</td>\n",
       "    </tr>\n",
       "    <tr>\n",
       "      <th>6959</th>\n",
       "      <td>2022-02-25</td>\n",
       "      <td>10</td>\n",
       "      <td>-</td>\n",
       "      <td>-</td>\n",
       "      <td>Cocomelon</td>\n",
       "      <td>TV Show</td>\n",
       "      <td>NaN</td>\n",
       "      <td>Jun 1, 2020</td>\n",
       "      <td>427</td>\n",
       "      <td>1472</td>\n",
       "    </tr>\n",
       "    <tr>\n",
       "      <th>6998</th>\n",
       "      <td>2022-03-01</td>\n",
       "      <td>9</td>\n",
       "      <td>-</td>\n",
       "      <td>-</td>\n",
       "      <td>Cocomelon</td>\n",
       "      <td>TV Show</td>\n",
       "      <td>NaN</td>\n",
       "      <td>Jun 1, 2020</td>\n",
       "      <td>428</td>\n",
       "      <td>1474</td>\n",
       "    </tr>\n",
       "  </tbody>\n",
       "</table>\n",
       "<p>329 rows × 10 columns</p>\n",
       "</div>"
      ],
      "text/plain": [
       "          As of  Rank Year to Date Rank Last Week Rank      Title     Type  \\\n",
       "2886 2021-01-14     7                 6              8  Cocomelon  TV Show   \n",
       "2896 2021-01-15     7                 7             10  Cocomelon  TV Show   \n",
       "2909 2021-01-16    10                 7              9  Cocomelon  TV Show   \n",
       "2919 2021-01-17    10                10              9  Cocomelon  TV Show   \n",
       "3019 2021-01-27    10                 -              -  Cocomelon  TV Show   \n",
       "...         ...   ...               ...            ...        ...      ...   \n",
       "6674 2022-01-28     5                 6              -  Cocomelon  TV Show   \n",
       "6687 2022-01-29     8                 5              8  Cocomelon  TV Show   \n",
       "6718 2022-02-01     9                 -              7  Cocomelon  TV Show   \n",
       "6959 2022-02-25    10                 -              -  Cocomelon  TV Show   \n",
       "6998 2022-03-01     9                 -              -  Cocomelon  TV Show   \n",
       "\n",
       "     Netflix Exclusive Netflix Release Date  Days In Top 10  Viewership Score  \n",
       "2886               NaN          Jun 1, 2020             100               287  \n",
       "2896               NaN          Jun 1, 2020             101               291  \n",
       "2909               NaN          Jun 1, 2020             102               292  \n",
       "2919               NaN          Jun 1, 2020             103               293  \n",
       "3019               NaN          Jun 1, 2020             104               294  \n",
       "...                ...                  ...             ...               ...  \n",
       "6674               NaN          Jun 1, 2020             424              1466  \n",
       "6687               NaN          Jun 1, 2020             425              1469  \n",
       "6718               NaN          Jun 1, 2020             426              1471  \n",
       "6959               NaN          Jun 1, 2020             427              1472  \n",
       "6998               NaN          Jun 1, 2020             428              1474  \n",
       "\n",
       "[329 rows x 10 columns]"
      ]
     },
     "execution_count": 19,
     "metadata": {},
     "output_type": "execute_result"
    }
   ],
   "source": [
    "# Verify outliers in 'Days In Top 10'\n",
    "df[df['Days In Top 10'] >= 100]"
   ]
  },
  {
   "cell_type": "code",
   "execution_count": 20,
   "metadata": {},
   "outputs": [
    {
     "data": {
      "text/plain": [
       "Title\n",
       "Cocomelon                       428\n",
       "Ozark                            85\n",
       "Cobra Kai                        81\n",
       "Manifest                         80\n",
       "The Queenâs Gambit             73\n",
       "                               ... \n",
       "The Office                        1\n",
       "Animals on the Loose: A You…      1\n",
       "Dark                              1\n",
       "The Secret Life of Pets 2         1\n",
       "Step Up Revolution                1\n",
       "Name: count, Length: 645, dtype: int64"
      ]
     },
     "execution_count": 20,
     "metadata": {},
     "output_type": "execute_result"
    }
   ],
   "source": [
    "# Verify the value counts of 'Title'\n",
    "df.Title.value_counts()"
   ]
  },
  {
   "cell_type": "code",
   "execution_count": 21,
   "metadata": {},
   "outputs": [
    {
     "data": {
      "text/plain": [
       "<Axes: xlabel='Type'>"
      ]
     },
     "execution_count": 21,
     "metadata": {},
     "output_type": "execute_result"
    },
    {
     "data": {
      "image/png": "[encoded data removed]",
      "text/plain": [
       "<Figure size 640x480 with 1 Axes>"
      ]
     },
     "metadata": {},
     "output_type": "display_data"
    }
   ],
   "source": [
    "df.Type.value_counts().plot(kind='bar')"
   ]
  },
  {
   "cell_type": "code",
   "execution_count": 24,
   "metadata": {},
   "outputs": [
    {
     "data": {
      "text/plain": [
       "<Axes: >"
      ]
     },
     "execution_count": 24,
     "metadata": {},
     "output_type": "execute_result"
    },
    {
     "data": {
      "image/png": "[encoded data removed]",
      "text/plain": [
       "<Figure size 640x480 with 1 Axes>"
      ]
     },
     "metadata": {},
     "output_type": "display_data"
    }
   ],
   "source": [
    "df['Viewership Score'].hist()"
   ]
  },
  {
   "cell_type": "code",
   "execution_count": 25,
   "metadata": {},
   "outputs": [
    {
     "data": {
      "text/html": [
       "<div>\n",
       "<style scoped>\n",
       "    .dataframe tbody tr th:only-of-type {\n",
       "        vertical-align: middle;\n",
       "    }\n",
       "\n",
       "    .dataframe tbody tr th {\n",
       "        vertical-align: top;\n",
       "    }\n",
       "\n",
       "    .dataframe thead th {\n",
       "        text-align: right;\n",
       "    }\n",
       "</style>\n",
       "<table border=\"1\" class=\"dataframe\">\n",
       "  <thead>\n",
       "    <tr style=\"text-align: right;\">\n",
       "      <th></th>\n",
       "      <th>As of</th>\n",
       "      <th>Rank</th>\n",
       "      <th>Year to Date Rank</th>\n",
       "      <th>Last Week Rank</th>\n",
       "      <th>Title</th>\n",
       "      <th>Type</th>\n",
       "      <th>Netflix Exclusive</th>\n",
       "      <th>Netflix Release Date</th>\n",
       "      <th>Days In Top 10</th>\n",
       "      <th>Viewership Score</th>\n",
       "    </tr>\n",
       "  </thead>\n",
       "  <tbody>\n",
       "    <tr>\n",
       "      <th>6998</th>\n",
       "      <td>2022-03-01</td>\n",
       "      <td>9</td>\n",
       "      <td>-</td>\n",
       "      <td>-</td>\n",
       "      <td>Cocomelon</td>\n",
       "      <td>TV Show</td>\n",
       "      <td>NaN</td>\n",
       "      <td>Jun 1, 2020</td>\n",
       "      <td>428</td>\n",
       "      <td>1474</td>\n",
       "    </tr>\n",
       "  </tbody>\n",
       "</table>\n",
       "</div>"
      ],
      "text/plain": [
       "          As of  Rank Year to Date Rank Last Week Rank      Title     Type  \\\n",
       "6998 2022-03-01     9                 -              -  Cocomelon  TV Show   \n",
       "\n",
       "     Netflix Exclusive Netflix Release Date  Days In Top 10  Viewership Score  \n",
       "6998               NaN          Jun 1, 2020             428              1474  "
      ]
     },
     "execution_count": 25,
     "metadata": {},
     "output_type": "execute_result"
    }
   ],
   "source": [
    "df[df['Viewership Score'] == df['Viewership Score'].max()]"
   ]
  },
  {
   "cell_type": "markdown",
   "metadata": {},
   "source": [
    "So we can infer that the most popular show within that period was Cocomelon, for it's been in the Top 10 far more days than any other show."
   ]
  }
 ],
 "metadata": {
  "kernelspec": {
   "display_name": ".venv",
   "language": "python",
   "name": "python3"
  },
  "language_info": {
   "codemirror_mode": {
    "name": "ipython",
    "version": 3
   },
   "file_extension": ".py",
   "mimetype": "text/x-python",
   "name": "python",
   "nbconvert_exporter": "python",
   "pygments_lexer": "ipython3",
   "version": "3.11.11"
  }
 },
 "nbformat": 4,
 "nbformat_minor": 2
}
